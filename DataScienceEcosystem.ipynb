{
 "cells": [
  {
   "cell_type": "markdown",
   "id": "60f6e33c",
   "metadata": {},
   "source": [
    "# Data Science Tools and Ecosystem"
   ]
  },
  {
   "cell_type": "markdown",
   "id": "69a94b21",
   "metadata": {},
   "source": [
    "This notebook summarizes the various tools used in data science as well as the data science ecosystem."
   ]
  },
  {
   "cell_type": "markdown",
   "id": "38a5e637",
   "metadata": {},
   "source": [
    "Listed below are some of the most commonly-used languages in data science:\n",
    "1. Python\n",
    "2. R\n",
    "3. Scala"
   ]
  },
  {
   "cell_type": "markdown",
   "id": "5053b515",
   "metadata": {},
   "source": [
    "Some popular libraries that data scientists use are:\n",
    "1. Keras\n",
    "2. Pandas\n",
    "3. PyTorch\n",
    "4. TensorFlow"
   ]
  },
  {
   "cell_type": "markdown",
   "id": "cd9f94f4",
   "metadata": {},
   "source": [
    "| Data Science Tools |\n",
    "| ------------------ |\n",
    "| RStudio |\n",
    "| Apache Spark |\n",
    "| Apache Hadoop |"
   ]
  },
  {
   "cell_type": "markdown",
   "id": "5bbe245e",
   "metadata": {},
   "source": [
    "### Here are some examples that illustrate how to evaluate arithmetic expressions in Python."
   ]
  },
  {
   "cell_type": "code",
   "execution_count": 7,
   "id": "a19ee8a3",
   "metadata": {},
   "outputs": [
    {
     "name": "stdout",
     "output_type": "stream",
     "text": [
      "17\n"
     ]
    }
   ],
   "source": [
    "# A simple arithmetic expression that shows how to add and multiply integers.\n",
    "\n",
    "print((3*4)+5)"
   ]
  },
  {
   "cell_type": "code",
   "execution_count": 8,
   "id": "36b061ed",
   "metadata": {},
   "outputs": [
    {
     "name": "stdout",
     "output_type": "stream",
     "text": [
      "3.3333333333333335 hours\n"
     ]
    }
   ],
   "source": [
    "# An arithmetic expression that converts 200 minutes into hours by dividing by 60.\n",
    "\n",
    "print((200/60), 'hours')"
   ]
  },
  {
   "cell_type": "markdown",
   "id": "d53c9d76",
   "metadata": {},
   "source": [
    "**Objectives:**\n",
    "- Create and share a Jupyter notebook\n",
    "- List some of the libraries, tools, and languages commonly used in data science\n",
    "- How to edit and upload files in GitHub"
   ]
  },
  {
   "cell_type": "markdown",
   "id": "22bfdd0b",
   "metadata": {},
   "source": [
    "## Author\n",
    "Varun Venkatesh"
   ]
  }
 ],
 "metadata": {
  "kernelspec": {
   "display_name": "Python 3 (ipykernel)",
   "language": "python",
   "name": "python3"
  },
  "language_info": {
   "codemirror_mode": {
    "name": "ipython",
    "version": 3
   },
   "file_extension": ".py",
   "mimetype": "text/x-python",
   "name": "python",
   "nbconvert_exporter": "python",
   "pygments_lexer": "ipython3",
   "version": "3.9.12"
  }
 },
 "nbformat": 4,
 "nbformat_minor": 5
}
